{
 "cells": [
  {
   "cell_type": "markdown",
   "metadata": {},
   "source": [
    "Please run the script under \\*nix system with `FFmpeg` installed (for generating the video). Before running the code, please make sure the following Python libary are installed:\n",
    "\n",
    "`jupyter`, `pandas`, `numpy`, `matplotlib`, `xgboost`, `scikit-learn`, `beautifulsoup`, `requests`, `seaborn`, `joblib`\n",
    "\n",
    "Then use `jupyter notebook` command to start the jupyter notebook server and open the .ipynb file.\n"
   ]
  },
  {
   "cell_type": "markdown",
   "metadata": {},
   "source": [
    "# Question 1"
   ]
  },
  {
   "cell_type": "markdown",
   "metadata": {},
   "source": [
    "### a. Programmatically download and load into your favorite analytical tool the trip data for September 2015."
   ]
  },
  {
   "cell_type": "code",
   "execution_count": 74,
   "metadata": {
    "collapsed": true
   },
   "outputs": [],
   "source": [
    "def download_logfiles(contained_str):\n",
    "    '''\n",
    "    contained_str: a list of str that the target filename contains\n",
    "    '''\n",
    "    def check_contained_str(log_link):\n",
    "        for c_str in contained_str:\n",
    "            if log_link.find(c_str) < 0:\n",
    "                return False\n",
    "        return True\n",
    "        \n",
    "    import requests\n",
    "    import urllib\n",
    "    from bs4 import BeautifulSoup, SoupStrainer\n",
    "    \n",
    "    url = 'http://www.nyc.gov/html/tlc/html/about/trip_record_data.shtml'\n",
    "    soup = BeautifulSoup(requests.get(url).text, parse_only=SoupStrainer('a', href=True))\n",
    "    log_links = [link['href'] for link in soup.find_all('a')]\n",
    "    log_links = [log_link for log_link in log_links if check_contained_str(log_link)]\n",
    "    \n",
    "    filenames = []\n",
    "    for log_link in log_links:\n",
    "        filename = log_link.split('/')[-1]\n",
    "        urllib.urlretrieve(log_link, filename)\n",
    "        print 'Successful downloaded ', filename\n",
    "        filenames.append(filename)\n",
    "    \n",
    "    return filenames"
   ]
  },
  {
   "cell_type": "code",
   "execution_count": 75,
   "metadata": {
    "collapsed": false
   },
   "outputs": [
    {
     "name": "stdout",
     "output_type": "stream",
     "text": [
      "Successful downloaded  green_tripdata_2015-09.csv\n"
     ]
    }
   ],
   "source": [
    "import pandas as pd\n",
    "filename = download_logfiles(['green', '2015', '09', '.csv'])[0]\n",
    "\n",
    "df = pd.read_csv(filename, sep=',')"
   ]
  },
  {
   "cell_type": "markdown",
   "metadata": {},
   "source": [
    "### b. Report how many rows and columns of data you have loaded."
   ]
  },
  {
   "cell_type": "code",
   "execution_count": 76,
   "metadata": {
    "collapsed": false
   },
   "outputs": [
    {
     "name": "stdout",
     "output_type": "stream",
     "text": [
      "There are 1494926 rows and 21 columns in the downloaded dataset.\n"
     ]
    }
   ],
   "source": [
    "print 'There are',df.shape[0],'rows and',df.shape[1],'columns in the downloaded dataset.'"
   ]
  },
  {
   "cell_type": "code",
   "execution_count": 77,
   "metadata": {
    "collapsed": false,
    "scrolled": true
   },
   "outputs": [
    {
     "name": "stdout",
     "output_type": "stream",
     "text": [
      "The variables include:\n",
      "VendorID,\n",
      "lpep_pickup_datetime,\n",
      "Lpep_dropoff_datetime,\n",
      "Store_and_fwd_flag,\n",
      "RateCodeID,\n",
      "Pickup_longitude,\n",
      "Pickup_latitude,\n",
      "Dropoff_longitude,\n",
      "Dropoff_latitude,\n",
      "Passenger_count,\n",
      "Trip_distance,\n",
      "Fare_amount,\n",
      "Extra,\n",
      "MTA_tax,\n",
      "Tip_amount,\n",
      "Tolls_amount,\n",
      "Ehail_fee,\n",
      "improvement_surcharge,\n",
      "Total_amount,\n",
      "Payment_type,\n",
      "Trip_type\n"
     ]
    }
   ],
   "source": [
    "print 'The variables include:\\n',',\\n'.join([x.strip() for x in df.columns])"
   ]
  },
  {
   "cell_type": "markdown",
   "metadata": {},
   "source": [
    "# Question 2"
   ]
  },
  {
   "cell_type": "markdown",
   "metadata": {},
   "source": [
    "### a. Plot a histogram of the number of the trip distance (\"Trip Distance\")."
   ]
  },
  {
   "cell_type": "code",
   "execution_count": 78,
   "metadata": {
    "collapsed": false,
    "scrolled": true
   },
   "outputs": [
    {
     "name": "stdout",
     "output_type": "stream",
     "text": [
      "Populating the interactive namespace from numpy and matplotlib\n"
     ]
    },
    {
     "name": "stderr",
     "output_type": "stream",
     "text": [
      "WARNING: pylab import has clobbered these variables: ['test']\n",
      "`%matplotlib` prevents importing * from pylab and numpy\n"
     ]
    }
   ],
   "source": [
    "%pylab inline"
   ]
  },
  {
   "cell_type": "code",
   "execution_count": 79,
   "metadata": {
    "collapsed": false
   },
   "outputs": [
    {
     "data": {
      "text/plain": [
       "<matplotlib.text.Text at 0x113db5c90>"
      ]
     },
     "execution_count": 79,
     "metadata": {},
     "output_type": "execute_result"
    },
    {
     "data": {
      "image/png": "[encoded data removed]",
      "text/plain": [
       "<matplotlib.figure.Figure at 0x159099b10>"
      ]
     },
     "metadata": {},
     "output_type": "display_data"
    }
   ],
   "source": [
    "hist(df.Trip_distance, log=True, range=[0,120], bins=20)\n",
    "pyplot.title('Histogram of the Trip_distance variable.')\n",
    "pyplot.xlabel('Frequency')\n",
    "pyplot.ylabel('Trip Distance')"
   ]
  },
  {
   "cell_type": "markdown",
   "metadata": {},
   "source": [
    "### b. Report any structure you find and any hypotheses you have about that structure."
   ]
  },
  {
   "cell_type": "code",
   "execution_count": 80,
   "metadata": {
    "collapsed": false,
    "scrolled": false
   },
   "outputs": [
    {
     "data": {
      "text/plain": [
       "count    1494926.000000\n",
       "mean           2.968141\n",
       "std            3.076621\n",
       "min            0.000000\n",
       "25%            1.100000\n",
       "50%            1.980000\n",
       "75%            3.740000\n",
       "max          603.100000\n",
       "Name: Trip_distance, dtype: float64"
      ]
     },
     "execution_count": 80,
     "metadata": {},
     "output_type": "execute_result"
    }
   ],
   "source": [
    "df.Trip_distance.describe()"
   ]
  },
  {
   "cell_type": "code",
   "execution_count": 81,
   "metadata": {
    "collapsed": false
   },
   "outputs": [],
   "source": [
    "def get_d_distribution(d_dat):\n",
    "    '''\n",
    "    To calculate the distribution of d, since it presents long-tail properties, it's\n",
    "    not wise to draw it on a linear coordinate system. \n",
    "    Therefore I will plot it in a log-linear coordinate system.\n",
    "    On the other hand, to avoid the noisy tail of log-linear plot, I use the so-called\n",
    "    logarithmic-binning to get the probability denssity distribution.\n",
    "    '''\n",
    "    import math\n",
    "    logres = 10.0\n",
    "    min_resolution = 1  # min = 100m\n",
    "    base = 10.0  # or use math.e\n",
    "    maxloglen = 100\n",
    "\n",
    "    distrib = [0.0] * maxloglen\n",
    "\n",
    "    for d in d_dat:\n",
    "        quantity = d\n",
    "        if quantity < min_resolution:\n",
    "            continue\n",
    "        quantity_index = int(math.log(quantity / min_resolution, base) * logres)\n",
    "        distrib[quantity_index] += 1.0\n",
    "    count = sum(distrib)\n",
    "    x_list, p_list = [], []\n",
    "    for j in xrange(maxloglen):\n",
    "        if distrib[j] > 0.5:\n",
    "            x = math.pow(base, (j + 0.5) / logres)\n",
    "            p = (distrib[j] / count /\n",
    "                 (math.pow(base, (j+1.0) / logres) -\n",
    "                  math.pow(base, float(j) / logres)))\n",
    "            x_list.append(x)\n",
    "            p_list.append(p)\n",
    "    return (x_list, p_list)"
   ]
  },
  {
   "cell_type": "code",
   "execution_count": 82,
   "metadata": {
    "collapsed": false
   },
   "outputs": [],
   "source": [
    "d_dat = list(df.Trip_distance[df.Trip_distance>0]*10)\n",
    "d_distrib = get_d_distribution(d_dat)"
   ]
  },
  {
   "cell_type": "code",
   "execution_count": 83,
   "metadata": {
    "collapsed": false
   },
   "outputs": [
    {
     "data": {
      "image/png": "[encoded data removed]",
      "text/plain": [
       "<matplotlib.figure.Figure at 0x1143e8b50>"
      ]
     },
     "metadata": {},
     "output_type": "display_data"
    }
   ],
   "source": [
    "plot(d_distrib[0], d_distrib[1], 'ro')\n",
    "xscale('log')\n",
    "pyplot.title('Probability Density Function of Trip_distance with log-binning')\n",
    "pyplot.ylabel('Probability Density Function')\n",
    "pyplot.xlabel('10*Trip_distance')\n",
    "show()"
   ]
  },
  {
   "cell_type": "markdown",
   "metadata": {},
   "source": [
    "From the above plot, it is easy to find log(10\\*Trip_distance) approximately follows a normal distribution. Thus the variable Trip_distance should follow a **lognormal distribution** (probability density function). If given more time, I will use maximum-likelihood method to get the parameters of the lognormal distribution."
   ]
  },
  {
   "cell_type": "markdown",
   "metadata": {},
   "source": [
    "# Question 3"
   ]
  },
  {
   "cell_type": "markdown",
   "metadata": {},
   "source": [
    "### a. Report mean and median trip distance grouped by hour of day."
   ]
  },
  {
   "cell_type": "code",
   "execution_count": 84,
   "metadata": {
    "collapsed": false
   },
   "outputs": [],
   "source": [
    "df['hour_of_day']=((pd.to_datetime(df.Lpep_dropoff_datetime)-pd.to_datetime(df.lpep_pickup_datetime))/2\n",
    "                   +pd.to_datetime(df.lpep_pickup_datetime)).apply(lambda x: x.hour)\n",
    "hour_groups = df[['hour_of_day','Trip_distance']].groupby('hour_of_day')"
   ]
  },
  {
   "cell_type": "code",
   "execution_count": 85,
   "metadata": {
    "collapsed": false
   },
   "outputs": [
    {
     "name": "stdout",
     "output_type": "stream",
     "text": [
      "The mean trip distance grouped by hour of day (0 to 23):\n"
     ]
    },
    {
     "data": {
      "text/html": [
       "<div>\n",
       "<table border=\"1\" class=\"dataframe\">\n",
       "  <thead>\n",
       "    <tr style=\"text-align: right;\">\n",
       "      <th></th>\n",
       "      <th>Trip_distance</th>\n",
       "    </tr>\n",
       "    <tr>\n",
       "      <th>hour_of_day</th>\n",
       "      <th></th>\n",
       "    </tr>\n",
       "  </thead>\n",
       "  <tbody>\n",
       "    <tr>\n",
       "      <th>0</th>\n",
       "      <td>3.183713</td>\n",
       "    </tr>\n",
       "    <tr>\n",
       "      <th>1</th>\n",
       "      <td>3.062710</td>\n",
       "    </tr>\n",
       "    <tr>\n",
       "      <th>2</th>\n",
       "      <td>3.092803</td>\n",
       "    </tr>\n",
       "    <tr>\n",
       "      <th>3</th>\n",
       "      <td>3.206705</td>\n",
       "    </tr>\n",
       "    <tr>\n",
       "      <th>4</th>\n",
       "      <td>3.517394</td>\n",
       "    </tr>\n",
       "    <tr>\n",
       "      <th>5</th>\n",
       "      <td>4.117403</td>\n",
       "    </tr>\n",
       "    <tr>\n",
       "      <th>6</th>\n",
       "      <td>3.936409</td>\n",
       "    </tr>\n",
       "    <tr>\n",
       "      <th>7</th>\n",
       "      <td>3.253702</td>\n",
       "    </tr>\n",
       "    <tr>\n",
       "      <th>8</th>\n",
       "      <td>2.993109</td>\n",
       "    </tr>\n",
       "    <tr>\n",
       "      <th>9</th>\n",
       "      <td>3.021705</td>\n",
       "    </tr>\n",
       "    <tr>\n",
       "      <th>10</th>\n",
       "      <td>2.965888</td>\n",
       "    </tr>\n",
       "    <tr>\n",
       "      <th>11</th>\n",
       "      <td>2.888889</td>\n",
       "    </tr>\n",
       "    <tr>\n",
       "      <th>12</th>\n",
       "      <td>2.916823</td>\n",
       "    </tr>\n",
       "    <tr>\n",
       "      <th>13</th>\n",
       "      <td>2.876131</td>\n",
       "    </tr>\n",
       "    <tr>\n",
       "      <th>14</th>\n",
       "      <td>2.814014</td>\n",
       "    </tr>\n",
       "    <tr>\n",
       "      <th>15</th>\n",
       "      <td>2.819248</td>\n",
       "    </tr>\n",
       "    <tr>\n",
       "      <th>16</th>\n",
       "      <td>2.786065</td>\n",
       "    </tr>\n",
       "    <tr>\n",
       "      <th>17</th>\n",
       "      <td>2.690497</td>\n",
       "    </tr>\n",
       "    <tr>\n",
       "      <th>18</th>\n",
       "      <td>2.673889</td>\n",
       "    </tr>\n",
       "    <tr>\n",
       "      <th>19</th>\n",
       "      <td>2.721500</td>\n",
       "    </tr>\n",
       "    <tr>\n",
       "      <th>20</th>\n",
       "      <td>2.783274</td>\n",
       "    </tr>\n",
       "    <tr>\n",
       "      <th>21</th>\n",
       "      <td>2.967810</td>\n",
       "    </tr>\n",
       "    <tr>\n",
       "      <th>22</th>\n",
       "      <td>3.173241</td>\n",
       "    </tr>\n",
       "    <tr>\n",
       "      <th>23</th>\n",
       "      <td>3.207370</td>\n",
       "    </tr>\n",
       "  </tbody>\n",
       "</table>\n",
       "</div>"
      ],
      "text/plain": [
       "             Trip_distance\n",
       "hour_of_day               \n",
       "0                 3.183713\n",
       "1                 3.062710\n",
       "2                 3.092803\n",
       "3                 3.206705\n",
       "4                 3.517394\n",
       "5                 4.117403\n",
       "6                 3.936409\n",
       "7                 3.253702\n",
       "8                 2.993109\n",
       "9                 3.021705\n",
       "10                2.965888\n",
       "11                2.888889\n",
       "12                2.916823\n",
       "13                2.876131\n",
       "14                2.814014\n",
       "15                2.819248\n",
       "16                2.786065\n",
       "17                2.690497\n",
       "18                2.673889\n",
       "19                2.721500\n",
       "20                2.783274\n",
       "21                2.967810\n",
       "22                3.173241\n",
       "23                3.207370"
      ]
     },
     "execution_count": 85,
     "metadata": {},
     "output_type": "execute_result"
    }
   ],
   "source": [
    "print 'The mean trip distance grouped by hour of day (0 to 23):'\n",
    "hour_groups.mean()"
   ]
  },
  {
   "cell_type": "code",
   "execution_count": 86,
   "metadata": {
    "collapsed": false
   },
   "outputs": [
    {
     "name": "stdout",
     "output_type": "stream",
     "text": [
      "The median trip distance grouped by hour of day (0 to 23):\n"
     ]
    },
    {
     "data": {
      "text/html": [
       "<div>\n",
       "<table border=\"1\" class=\"dataframe\">\n",
       "  <thead>\n",
       "    <tr style=\"text-align: right;\">\n",
       "      <th></th>\n",
       "      <th>Trip_distance</th>\n",
       "    </tr>\n",
       "    <tr>\n",
       "      <th>hour_of_day</th>\n",
       "      <th></th>\n",
       "    </tr>\n",
       "  </thead>\n",
       "  <tbody>\n",
       "    <tr>\n",
       "      <th>0</th>\n",
       "      <td>2.24</td>\n",
       "    </tr>\n",
       "    <tr>\n",
       "      <th>1</th>\n",
       "      <td>2.16</td>\n",
       "    </tr>\n",
       "    <tr>\n",
       "      <th>2</th>\n",
       "      <td>2.19</td>\n",
       "    </tr>\n",
       "    <tr>\n",
       "      <th>3</th>\n",
       "      <td>2.22</td>\n",
       "    </tr>\n",
       "    <tr>\n",
       "      <th>4</th>\n",
       "      <td>2.38</td>\n",
       "    </tr>\n",
       "    <tr>\n",
       "      <th>5</th>\n",
       "      <td>2.84</td>\n",
       "    </tr>\n",
       "    <tr>\n",
       "      <th>6</th>\n",
       "      <td>2.78</td>\n",
       "    </tr>\n",
       "    <tr>\n",
       "      <th>7</th>\n",
       "      <td>2.10</td>\n",
       "    </tr>\n",
       "    <tr>\n",
       "      <th>8</th>\n",
       "      <td>1.92</td>\n",
       "    </tr>\n",
       "    <tr>\n",
       "      <th>9</th>\n",
       "      <td>1.98</td>\n",
       "    </tr>\n",
       "    <tr>\n",
       "      <th>10</th>\n",
       "      <td>1.95</td>\n",
       "    </tr>\n",
       "    <tr>\n",
       "      <th>11</th>\n",
       "      <td>1.87</td>\n",
       "    </tr>\n",
       "    <tr>\n",
       "      <th>12</th>\n",
       "      <td>1.90</td>\n",
       "    </tr>\n",
       "    <tr>\n",
       "      <th>13</th>\n",
       "      <td>1.85</td>\n",
       "    </tr>\n",
       "    <tr>\n",
       "      <th>14</th>\n",
       "      <td>1.80</td>\n",
       "    </tr>\n",
       "    <tr>\n",
       "      <th>15</th>\n",
       "      <td>1.80</td>\n",
       "    </tr>\n",
       "    <tr>\n",
       "      <th>16</th>\n",
       "      <td>1.80</td>\n",
       "    </tr>\n",
       "    <tr>\n",
       "      <th>17</th>\n",
       "      <td>1.77</td>\n",
       "    </tr>\n",
       "    <tr>\n",
       "      <th>18</th>\n",
       "      <td>1.80</td>\n",
       "    </tr>\n",
       "    <tr>\n",
       "      <th>19</th>\n",
       "      <td>1.85</td>\n",
       "    </tr>\n",
       "    <tr>\n",
       "      <th>20</th>\n",
       "      <td>1.90</td>\n",
       "    </tr>\n",
       "    <tr>\n",
       "      <th>21</th>\n",
       "      <td>2.01</td>\n",
       "    </tr>\n",
       "    <tr>\n",
       "      <th>22</th>\n",
       "      <td>2.18</td>\n",
       "    </tr>\n",
       "    <tr>\n",
       "      <th>23</th>\n",
       "      <td>2.24</td>\n",
       "    </tr>\n",
       "  </tbody>\n",
       "</table>\n",
       "</div>"
      ],
      "text/plain": [
       "             Trip_distance\n",
       "hour_of_day               \n",
       "0                     2.24\n",
       "1                     2.16\n",
       "2                     2.19\n",
       "3                     2.22\n",
       "4                     2.38\n",
       "5                     2.84\n",
       "6                     2.78\n",
       "7                     2.10\n",
       "8                     1.92\n",
       "9                     1.98\n",
       "10                    1.95\n",
       "11                    1.87\n",
       "12                    1.90\n",
       "13                    1.85\n",
       "14                    1.80\n",
       "15                    1.80\n",
       "16                    1.80\n",
       "17                    1.77\n",
       "18                    1.80\n",
       "19                    1.85\n",
       "20                    1.90\n",
       "21                    2.01\n",
       "22                    2.18\n",
       "23                    2.24"
      ]
     },
     "execution_count": 86,
     "metadata": {},
     "output_type": "execute_result"
    }
   ],
   "source": [
    "print 'The median trip distance grouped by hour of day (0 to 23):'\n",
    "hour_groups.median()"
   ]
  },
  {
   "cell_type": "markdown",
   "metadata": {},
   "source": [
    "### b. We'd like to get a rough sense of identifying trips that originate or terminate at one of the NYC area airports. Can you provide a count of how many transactions fit this criteria, the average fair, and any other interesting characteristics of these trips."
   ]
  },
  {
   "cell_type": "markdown",
   "metadata": {},
   "source": [
    "One of NYC area airport is the LaGuardia Airport, which is located at 40.77472° N, 73.87194° W. Here I used the Haversine formula to calculate the great-circle distances between two points on a sphere (earth) from their longitudes and latitudes. Then I can calculate the distance between the pick-up (orrop-off) location and the airport location. If one of the (pick-up and drop-of) distances is smaller than 0.7 miles in a transaction, I identify it as a trip originate or terminate at LaGuardia Airport."
   ]
  },
  {
   "cell_type": "code",
   "execution_count": 87,
   "metadata": {
    "collapsed": true
   },
   "outputs": [],
   "source": [
    "LaGuardia_Airport =[40.7723628,-73.8733684]"
   ]
  },
  {
   "cell_type": "code",
   "execution_count": 88,
   "metadata": {
    "collapsed": true
   },
   "outputs": [],
   "source": [
    "import math\n",
    "def distance(A, B):\n",
    "    lat1, lon1 = A\n",
    "    lat2, lon2 = B\n",
    "    R = 6371000/1609.34  #in miles\n",
    "    Haversine = (math.sin(math.radians((lat2 - lat1) / 2)))**2 + \\\n",
    "        math.cos(math.radians(lat1)) * \\\n",
    "        math.cos(math.radians(lat2)) * \\\n",
    "        (math.sin(math.radians((lon2 - lon1) / 2)))**2\n",
    "    d = R * 2 * math.atan2(math.sqrt(Haversine), math.sqrt(1 - Haversine))\n",
    "    return d"
   ]
  },
  {
   "cell_type": "code",
   "execution_count": 89,
   "metadata": {
    "collapsed": true
   },
   "outputs": [],
   "source": [
    "df['pickup_airport_distance'] = map(lambda A: distance(A, LaGuardia_Airport),\n",
    "                                    zip(df.Pickup_latitude, df.Pickup_longitude))\n",
    "df['dropoff_airport_distance'] = map(lambda A: distance(A, LaGuardia_Airport),\n",
    "                                     zip(df.Dropoff_latitude, df.Dropoff_longitude))\n",
    "close_to_airport=df[(df.pickup_airport_distance<0.7) | (df.dropoff_airport_distance<0.7)]\n",
    "\n",
    "print len(close_to_airport)"
   ]
  },
  {
   "cell_type": "markdown",
   "metadata": {},
   "source": [
    "Thus, there are 27300 transactions that involve trips originate or terminate at LaGuardia Airport in the September of 2015."
   ]
  },
  {
   "cell_type": "code",
   "execution_count": 93,
   "metadata": {
    "collapsed": false
   },
   "outputs": [
    {
     "name": "stdout",
     "output_type": "stream",
     "text": [
      "The average fare of the trips originate or terminate at LaGuardia Airport is 23.90 USD.\n"
     ]
    }
   ],
   "source": [
    "avg_fare=close_to_airport.Total_amount.mean()\n",
    "print 'The average fare of the trips originate or terminate at LaGuardia Airport is %.2f USD.'%avg_fare"
   ]
  },
  {
   "cell_type": "code",
   "execution_count": 94,
   "metadata": {
    "collapsed": false
   },
   "outputs": [
    {
     "name": "stdout",
     "output_type": "stream",
     "text": [
      "The average distance of the trips originate or terminate at LaGuardia Airport is 5.66 miles.\n"
     ]
    }
   ],
   "source": [
    "avg_dis=close_to_airport.Trip_distance.mean()\n",
    "print 'The average distance of the trips originate or terminate at LaGuardia Airport is %.2f miles.'%avg_dis"
   ]
  },
  {
   "cell_type": "code",
   "execution_count": 95,
   "metadata": {
    "collapsed": false,
    "scrolled": true
   },
   "outputs": [
    {
     "data": {
      "text/plain": [
       "1    22805\n",
       "2     2170\n",
       "5     1195\n",
       "3      546\n",
       "6      385\n",
       "4      194\n",
       "0        5\n",
       "Name: Passenger_count, dtype: int64"
      ]
     },
     "execution_count": 95,
     "metadata": {},
     "output_type": "execute_result"
    }
   ],
   "source": [
    "close_to_airport.Passenger_count.value_counts()"
   ]
  },
  {
   "cell_type": "markdown",
   "metadata": {},
   "source": [
    "Above shows the counts of trips related to LaGuardia Airport in September 2015 when the trips are grouped by number of passengers."
   ]
  },
  {
   "cell_type": "markdown",
   "metadata": {},
   "source": [
    "# Question 4"
   ]
  },
  {
   "cell_type": "markdown",
   "metadata": {},
   "source": [
    "For this problem, I used the Extreme Gradient Boosting (xgboost) method for taxi tip-percentage prediciton. I compared several algorithms, and found xgboost gives the best accuracy performance. If given more time, I will implement cross validation and grid search for parameters."
   ]
  },
  {
   "cell_type": "markdown",
   "metadata": {},
   "source": [
    "### a. Build a derived variable for tip as a percentage of the total fare."
   ]
  },
  {
   "cell_type": "code",
   "execution_count": 96,
   "metadata": {
    "collapsed": true
   },
   "outputs": [],
   "source": [
    "df['tip_percent'] = df.Tip_amount/df.Total_amount * 100"
   ]
  },
  {
   "cell_type": "markdown",
   "metadata": {},
   "source": [
    "### b. Build a predictive model for tip as a percentage of the total fare. Use as much of the data as you like (or all of it). We will validate a sample."
   ]
  },
  {
   "cell_type": "markdown",
   "metadata": {},
   "source": [
    "Generated Feature 1: trip_duration (continuous)"
   ]
  },
  {
   "cell_type": "code",
   "execution_count": null,
   "metadata": {
    "collapsed": true
   },
   "outputs": [],
   "source": [
    "trip_dur= pd.to_datetime(df.Lpep_dropoff_datetime)-pd.to_datetime(df.lpep_pickup_datetime)\n",
    "df['trip_duration']=[int(x.total_seconds()) for x in trip_dur]"
   ]
  },
  {
   "cell_type": "markdown",
   "metadata": {
    "collapsed": false,
    "scrolled": true
   },
   "source": [
    "Generated Feature 2: Pickup_density (continuous)\n",
    "\n",
    "Generated Feature 3: Dropoff_density (continuous)"
   ]
  },
  {
   "cell_type": "code",
   "execution_count": 99,
   "metadata": {
    "collapsed": true
   },
   "outputs": [],
   "source": [
    "valid_latlon = df[(df.Pickup_latitude>0)&\n",
    "                  (df.Dropoff_latitude>0)][['Pickup_latitude','Pickup_longitude',\n",
    "                                            'Dropoff_latitude', 'Dropoff_longitude']]\n",
    "\n",
    "positions = zip(df.Pickup_latitude, df.Pickup_longitude) + zip(df.Dropoff_latitude, df.Dropoff_longitude)\n",
    "\n",
    "min_lat = min(min(valid_latlon.Pickup_latitude),min(valid_latlon.Dropoff_latitude)) - 0.000001\n",
    "max_lat = max(max(valid_latlon.Pickup_latitude),max(valid_latlon.Dropoff_latitude)) + 0.000001\n",
    "min_lon = min(min(valid_latlon.Pickup_longitude),min(valid_latlon.Dropoff_longitude)) - 0.000001\n",
    "max_lon = max(max(valid_latlon.Pickup_longitude),max(valid_latlon.Dropoff_longitude)) + 0.000001\n",
    "\n",
    "resolution_lat, resolution_lon = (max_lat-min_lat)/2000, (max_lon-min_lon)/2000\n",
    "\n",
    "count = np.zeros([2000,2000],dtype=int)\n",
    "def get_coordinate(latlon):\n",
    "    if latlon[0] == 0 or latlon[1] == 0:\n",
    "        return -1\n",
    "    return int((latlon[0]-min_lat)/resolution_lat),int((latlon[1]-min_lon)/resolution_lon)\n",
    "\n",
    "for latlon in positions:\n",
    "    coord = get_coordinate(latlon)\n",
    "    if coord != -1:\n",
    "        count[coord] += 1\n",
    "\n",
    "df['Pickup_density'] = map(lambda x: 0 if get_coordinate(x) == -1 else count[get_coordinate(x)],\n",
    "                           zip(df.Pickup_latitude, df.Pickup_longitude))\n",
    "\n",
    "df['Dropoff_density'] = map(lambda x: 0 if get_coordinate(x) == -1 else count[get_coordinate(x)],\n",
    "                           zip(df.Dropoff_latitude, df.Dropoff_longitude))"
   ]
  },
  {
   "cell_type": "code",
   "execution_count": 102,
   "metadata": {
    "collapsed": false
   },
   "outputs": [],
   "source": [
    "import pandas as pd\n",
    "import numpy as np\n",
    "from xgboost import XGBRegressor"
   ]
  },
  {
   "cell_type": "markdown",
   "metadata": {},
   "source": [
    "Generated Feature 4: hour_of_day (see Question 3.a, continuous)\n",
    "    \n",
    "Generated Feature 5: average_speed (continuous)\n",
    "\n",
    "Generated Feature 6: VendorID (binary)\n",
    "\n",
    "Generated Feature 7: Payment_type (binary)\n",
    "\n",
    "Generated Feature 8: lpep_pickup_datetime (is weekday or not, binary)"
   ]
  },
  {
   "cell_type": "markdown",
   "metadata": {},
   "source": [
    "Existing Feature 1: Passenger_count (continuous)\n",
    "    \n",
    "Existing Feature 2: Trip_distance (continuous)\n",
    "    \n",
    "Existing Feature 3: Extra (continuous)\n",
    "\n",
    "Existing Feature 4: Total_amount (continuous)"
   ]
  },
  {
   "cell_type": "code",
   "execution_count": 103,
   "metadata": {
    "collapsed": true
   },
   "outputs": [],
   "source": [
    "x_columnname = ['VendorID', 'Payment_type', 'Passenger_count', 'Trip_distance', 'Extra', 'average_speed',\n",
    "                'Total_amount', 'hour_of_day','trip_duration', 'lpep_pickup_datetime', 'Pickup_density', 'Dropoff_density']\n",
    "y_columnname = ['tip_percent']\n",
    "\n",
    "df['average_speed'] = df.Trip_distance/df.trip_duration\n",
    "df_shuffled = df[(df.trip_duration>=30)&(df.Total_amount>=0)&(df.Trip_distance>0)&(df.Total_amount>0)\n",
    "                ][x_columnname + y_columnname].dropna().sample(frac=1)\n",
    "df_shuffled['VendorID'] = (df_shuffled.VendorID==1).astype(int)\n",
    "df_shuffled['Payment_type'] = (df.Payment_type==1).astype(int)\n",
    "df_shuffled['lpep_pickup_datetime'] = pd.to_datetime(df.lpep_pickup_datetime).apply(lambda x: x.isoweekday()<6\n",
    "                                                                                   ).astype(int)"
   ]
  },
  {
   "cell_type": "code",
   "execution_count": 107,
   "metadata": {
    "collapsed": false,
    "scrolled": false
   },
   "outputs": [
    {
     "data": {
      "text/html": [
       "<div>\n",
       "<table border=\"1\" class=\"dataframe\">\n",
       "  <thead>\n",
       "    <tr style=\"text-align: right;\">\n",
       "      <th></th>\n",
       "      <th>VendorID</th>\n",
       "      <th>Payment_type</th>\n",
       "      <th>Passenger_count</th>\n",
       "      <th>Trip_distance</th>\n",
       "      <th>Extra</th>\n",
       "      <th>average_speed</th>\n",
       "      <th>Total_amount</th>\n",
       "      <th>hour_of_day</th>\n",
       "      <th>trip_duration</th>\n",
       "      <th>lpep_pickup_datetime</th>\n",
       "      <th>Pickup_density</th>\n",
       "      <th>Dropoff_density</th>\n",
       "      <th>tip_percent</th>\n",
       "    </tr>\n",
       "  </thead>\n",
       "  <tbody>\n",
       "    <tr>\n",
       "      <th>675372</th>\n",
       "      <td>0</td>\n",
       "      <td>0</td>\n",
       "      <td>1</td>\n",
       "      <td>0.52</td>\n",
       "      <td>0</td>\n",
       "      <td>0.003171</td>\n",
       "      <td>4.8</td>\n",
       "      <td>10</td>\n",
       "      <td>164</td>\n",
       "      <td>1</td>\n",
       "      <td>6387</td>\n",
       "      <td>6766</td>\n",
       "      <td>0</td>\n",
       "    </tr>\n",
       "    <tr>\n",
       "      <th>204188</th>\n",
       "      <td>0</td>\n",
       "      <td>0</td>\n",
       "      <td>2</td>\n",
       "      <td>0.88</td>\n",
       "      <td>0</td>\n",
       "      <td>0.002385</td>\n",
       "      <td>8.0</td>\n",
       "      <td>8</td>\n",
       "      <td>369</td>\n",
       "      <td>0</td>\n",
       "      <td>598</td>\n",
       "      <td>1195</td>\n",
       "      <td>0</td>\n",
       "    </tr>\n",
       "    <tr>\n",
       "      <th>56379</th>\n",
       "      <td>0</td>\n",
       "      <td>1</td>\n",
       "      <td>5</td>\n",
       "      <td>1.50</td>\n",
       "      <td>0</td>\n",
       "      <td>0.003247</td>\n",
       "      <td>8.3</td>\n",
       "      <td>12</td>\n",
       "      <td>462</td>\n",
       "      <td>1</td>\n",
       "      <td>13369</td>\n",
       "      <td>597</td>\n",
       "      <td>0</td>\n",
       "    </tr>\n",
       "    <tr>\n",
       "      <th>60348</th>\n",
       "      <td>0</td>\n",
       "      <td>0</td>\n",
       "      <td>2</td>\n",
       "      <td>7.18</td>\n",
       "      <td>0</td>\n",
       "      <td>0.009386</td>\n",
       "      <td>21.8</td>\n",
       "      <td>14</td>\n",
       "      <td>765</td>\n",
       "      <td>1</td>\n",
       "      <td>37186</td>\n",
       "      <td>138</td>\n",
       "      <td>0</td>\n",
       "    </tr>\n",
       "    <tr>\n",
       "      <th>1430000</th>\n",
       "      <td>0</td>\n",
       "      <td>1</td>\n",
       "      <td>5</td>\n",
       "      <td>0.65</td>\n",
       "      <td>1</td>\n",
       "      <td>0.001801</td>\n",
       "      <td>7.3</td>\n",
       "      <td>17</td>\n",
       "      <td>361</td>\n",
       "      <td>1</td>\n",
       "      <td>2320</td>\n",
       "      <td>1838</td>\n",
       "      <td>0</td>\n",
       "    </tr>\n",
       "  </tbody>\n",
       "</table>\n",
       "</div>"
      ],
      "text/plain": [
       "         VendorID  Payment_type  Passenger_count  Trip_distance  Extra  \\\n",
       "675372          0             0                1           0.52      0   \n",
       "204188          0             0                2           0.88      0   \n",
       "56379           0             1                5           1.50      0   \n",
       "60348           0             0                2           7.18      0   \n",
       "1430000         0             1                5           0.65      1   \n",
       "\n",
       "         average_speed  Total_amount  hour_of_day  trip_duration  \\\n",
       "675372        0.003171           4.8           10            164   \n",
       "204188        0.002385           8.0            8            369   \n",
       "56379         0.003247           8.3           12            462   \n",
       "60348         0.009386          21.8           14            765   \n",
       "1430000       0.001801           7.3           17            361   \n",
       "\n",
       "         lpep_pickup_datetime  Pickup_density  Dropoff_density  tip_percent  \n",
       "675372                      1            6387             6766            0  \n",
       "204188                      0             598             1195            0  \n",
       "56379                       1           13369              597            0  \n",
       "60348                       1           37186              138            0  \n",
       "1430000                     1            2320             1838            0  "
      ]
     },
     "execution_count": 107,
     "metadata": {},
     "output_type": "execute_result"
    }
   ],
   "source": [
    "df_shuffled.head()"
   ]
  },
  {
   "cell_type": "code",
   "execution_count": 108,
   "metadata": {
    "collapsed": false
   },
   "outputs": [
    {
     "data": {
      "text/plain": [
       "(1462842, 13)"
      ]
     },
     "execution_count": 108,
     "metadata": {},
     "output_type": "execute_result"
    }
   ],
   "source": [
    "df_shuffled.shape"
   ]
  },
  {
   "cell_type": "code",
   "execution_count": 109,
   "metadata": {
    "collapsed": true
   },
   "outputs": [],
   "source": [
    "train = df_shuffled[:len(df_shuffled)*9/10]\n",
    "test = df_shuffled[len(df_shuffled)*9/10:]"
   ]
  },
  {
   "cell_type": "code",
   "execution_count": 110,
   "metadata": {
    "collapsed": false
   },
   "outputs": [],
   "source": [
    "x_columnname = ['VendorID', 'Payment_type', 'Passenger_count', 'Trip_distance', 'Extra', 'average_speed',\n",
    "                'Total_amount', 'hour_of_day','trip_duration', 'lpep_pickup_datetime', 'Pickup_density', 'Dropoff_density']\n",
    "\n",
    "train_x, train_y = train[x_columnname], train[y_columnname]\n",
    "test_x, test_y = test[x_columnname], test[y_columnname]"
   ]
  },
  {
   "cell_type": "code",
   "execution_count": 120,
   "metadata": {
    "collapsed": true
   },
   "outputs": [],
   "source": [
    "xgbrege = XGBRegressor(subsample=0.65,learning_rate=0.04,max_depth=3, base_score=0.5)"
   ]
  },
  {
   "cell_type": "code",
   "execution_count": 121,
   "metadata": {
    "collapsed": false
   },
   "outputs": [
    {
     "name": "stdout",
     "output_type": "stream",
     "text": [
      "Variance score: 0.74\n"
     ]
    }
   ],
   "source": [
    "xgbrege.fit(train_x, list(train_y.tip_percent))\n",
    "pred = xgbrege.predict(test_x)\n",
    "temp1=xgbrege.score(test_x, test_y)\n",
    "print('Variance score: %.2f' % temp1)"
   ]
  },
  {
   "cell_type": "code",
   "execution_count": 122,
   "metadata": {
    "collapsed": false,
    "scrolled": true
   },
   "outputs": [
    {
     "name": "stdout",
     "output_type": "stream",
     "text": [
      "Square Root of Mean Square Error : 4.427\n"
     ]
    }
   ],
   "source": [
    "from sklearn.metrics import mean_squared_error\n",
    "temp2=sqrt(mean_squared_error(test_y, pred))\n",
    "print \"Square Root of Mean Square Error : %.4g\" % temp2"
   ]
  },
  {
   "cell_type": "markdown",
   "metadata": {},
   "source": [
    "After tuning the model, I found the best set of parameters are:"
   ]
  },
  {
   "cell_type": "code",
   "execution_count": 124,
   "metadata": {
    "collapsed": false,
    "scrolled": true
   },
   "outputs": [
    {
     "data": {
      "text/plain": [
       "XGBRegressor(base_score=0.5, colsample_bylevel=1, colsample_bytree=1, gamma=0,\n",
       "       learning_rate=0.04, max_delta_step=0, max_depth=3,\n",
       "       min_child_weight=1, missing=None, n_estimators=100, nthread=-1,\n",
       "       objective='reg:linear', reg_alpha=0, reg_lambda=1,\n",
       "       scale_pos_weight=1, seed=0, silent=True, subsample=0.65)"
      ]
     },
     "execution_count": 124,
     "metadata": {},
     "output_type": "execute_result"
    }
   ],
   "source": [
    "xgbrege"
   ]
  },
  {
   "cell_type": "code",
   "execution_count": 125,
   "metadata": {
    "collapsed": false
   },
   "outputs": [
    {
     "data": {
      "text/plain": [
       "<matplotlib.text.Text at 0x113d9ce90>"
      ]
     },
     "execution_count": 125,
     "metadata": {},
     "output_type": "execute_result"
    },
    {
     "data": {
      "image/png": "[encoded data removed]",
      "text/plain": [
       "<matplotlib.figure.Figure at 0x113dc3090>"
      ]
     },
     "metadata": {},
     "output_type": "display_data"
    }
   ],
   "source": [
    "pd.Series(xgbrege.booster().get_fscore()).sort_values(ascending=False).plot(kind='bar', title='Feature Importances')\n",
    "ylabel('Feature Importance Score')"
   ]
  },
  {
   "cell_type": "markdown",
   "metadata": {},
   "source": [
    "Pickle and dump the fitted model and check the performance after the saved model is reloaded from disk:"
   ]
  },
  {
   "cell_type": "markdown",
   "metadata": {
    "collapsed": true
   },
   "source": [
    "#### Below is the code for testing"
   ]
  },
  {
   "cell_type": "code",
   "execution_count": 32,
   "metadata": {
    "collapsed": false
   },
   "outputs": [],
   "source": [
    "import joblib\n",
    "import pandas as pd\n",
    "import numpy as np\n",
    "from xgboost import XGBRegressor\n",
    "from sklearn.metrics import mean_squared_error\n",
    "from numpy import sqrt\n",
    "\n",
    "class TaxiTipPercent():\n",
    "    '''\n",
    "    Tip-percentage prediction with xgboost. Here, I assume the test data have the same\n",
    "    format with the training data \"green_tripdata_2015-09.csv\",\n",
    "    '''\n",
    "    _training_filename = \"green_tripdata_2015-09.csv\"\n",
    "    _model_filename = \"xgbmodel.pkl\"\n",
    "    _pickup_dropoff_density_filename = \"count.pkl\"\n",
    "    _train_validate_ratio = 0.9  # 10% of the train data will be used for validation\n",
    "    _x_columnname = ['VendorID', 'Payment_type', 'Passenger_count', 'Trip_distance', 'Extra',\n",
    "                     'average_speed', 'Total_amount', 'hour_of_day', 'trip_duration',\n",
    "                     'lpep_pickup_datetime', 'Pickup_density', 'Dropoff_density']\n",
    "    _y_columnname = ['tip_percent']\n",
    "\n",
    "    def __init__(self, test_filename):\n",
    "        try:\n",
    "            (self.min_lat, self.max_lat, self.min_lon, self.max_lon, self.resolution_lat, self.resolution_lon,\n",
    "             self.count) = joblib.load(self._pickup_dropoff_density_filename)\n",
    "            self.xgbmodel = joblib.load(self._model_filename)\n",
    "        except:\n",
    "            self.train_model()\n",
    "\n",
    "        self.filename = test_filename\n",
    "        df = pd.read_csv(self.filename, sep=',')\n",
    "        self.data_cleaning(df)\n",
    "        if \"Tip_amount\" in df.columns:\n",
    "            df['tip_percent'] = df.Tip_amount / df.Total_amount * 100\n",
    "            df_shuffled = df[(df.trip_duration >= 30) & (df.Total_amount >= 0) &\n",
    "                             (df.Trip_distance > 0) & (df.Total_amount > 0)\n",
    "                             ][self._x_columnname + self._y_columnname].dropna()\n",
    "        else:\n",
    "            df_shuffled = df[(df.trip_duration >= 30) & (df.Total_amount >= 0) &\n",
    "                             (df.Trip_distance > 0) & (df.Total_amount > 0)\n",
    "                             ][self._x_columnname].dropna()\n",
    "        df_shuffled['VendorID'] = (df_shuffled.VendorID == 1).astype(int)\n",
    "        df_shuffled['Payment_type'] = (df.Payment_type == 1).astype(int)\n",
    "        df_shuffled['lpep_pickup_datetime'\n",
    "                   ] = pd.to_datetime(df.lpep_pickup_datetime).apply(lambda x: x.isoweekday() < 6).astype(int)\n",
    "        test_x = df_shuffled[self._x_columnname]\n",
    "        df_shuffled['prediction'] = self.xgbmodel.predict(test_x)\n",
    "        self.df = df_shuffled\n",
    "        if self._y_columnname[0] in df_shuffled.columns:\n",
    "            test_y = df_shuffled[self._y_columnname]\n",
    "            print 'Test score:', self.xgbmodel.score(test_x, test_y)\n",
    "            print 'Test mean square error:', sqrt(mean_squared_error(test_y, self.xgbmodel.predict(test_x)))\n",
    "\n",
    "    def data_cleaning(self, df):\n",
    "        df['hour_of_day'] = ((pd.to_datetime(df.Lpep_dropoff_datetime) - pd.to_datetime(df.lpep_pickup_datetime)) / 2 +\n",
    "                             pd.to_datetime(df.lpep_pickup_datetime)).apply(lambda x: x.hour)\n",
    "        trip_dur = pd.to_datetime(df.Lpep_dropoff_datetime) - pd.to_datetime(df.lpep_pickup_datetime)\n",
    "        df['trip_duration'] = [int(x.total_seconds()) for x in trip_dur]\n",
    "        df['Pickup_density'] = map(lambda x: 0 if self.get_coordinate(x) == -1 else self.count[self.get_coordinate(x)],\n",
    "                                   zip(df.Pickup_latitude, df.Pickup_longitude))\n",
    "        df['Dropoff_density'] = map(lambda x: 0 if self.get_coordinate(x) == -1 else self.count[self.get_coordinate(x)],\n",
    "                                    zip(df.Dropoff_latitude, df.Dropoff_longitude))\n",
    "        df['average_speed'] = df.Trip_distance / df.trip_duration\n",
    "\n",
    "    def get_coordinate(self, latlon):\n",
    "        if latlon[0] == 0 or latlon[1] == 0:\n",
    "            return -1\n",
    "        if (latlon[0] <= self.min_lat or latlon[0] >= self.max_lat or\n",
    "            latlon[1] <= self.min_lon or latlon[1] >= self.max_lon):\n",
    "            return -1\n",
    "            \n",
    "        return (int((latlon[0] - self.min_lat) / self.resolution_lat),\n",
    "                int((latlon[1] - self.min_lon) / self.resolution_lon))\n",
    "\n",
    "    def pickup_dropoff_density(self, df):\n",
    "\n",
    "        valid_latlon = df[(df.Pickup_latitude > 0) &\n",
    "                          (df.Dropoff_latitude > 0)][['Pickup_latitude', 'Pickup_longitude',\n",
    "                                                      'Dropoff_latitude', 'Dropoff_longitude']]\n",
    "        self.min_lat = min(min(valid_latlon.Pickup_latitude), min(valid_latlon.Dropoff_latitude)) - 0.000001\n",
    "        self.max_lat = max(max(valid_latlon.Pickup_latitude), max(valid_latlon.Dropoff_latitude)) + 0.000001\n",
    "        self.min_lon = min(min(valid_latlon.Pickup_longitude), min(valid_latlon.Dropoff_longitude)) - 0.000001\n",
    "        self.max_lon = max(max(valid_latlon.Pickup_longitude), max(valid_latlon.Dropoff_longitude)) + 0.000001\n",
    "        self.resolution_lat = (self.max_lat - self.min_lat) / 2000\n",
    "        self.resolution_lon = (self.max_lon - self.min_lon) / 2000\n",
    "\n",
    "        count = np.zeros([2000, 2000], dtype=int)\n",
    "        positions = (zip(df.Pickup_latitude, df.Pickup_longitude) +\n",
    "                     zip(df.Dropoff_latitude, df.Dropoff_longitude))\n",
    "        for latlon in positions:\n",
    "            coord = self.get_coordinate(latlon)\n",
    "            if coord != -1:\n",
    "                count[coord] += 1\n",
    "        self.count = count\n",
    "\n",
    "    def train_model(self):\n",
    "        try:\n",
    "            df = pd.read_csv(self._training_filename, sep=',')\n",
    "        except:\n",
    "            import urllib\n",
    "            urllib.urlretrieve(r'https://s3.amazonaws.com/nyc-tlc/trip+data/' +\n",
    "                               self._training_filename, self._training_filename)\n",
    "            df = pd.read_csv(self._training_filename, sep=',')\n",
    "\n",
    "        self.pickup_dropoff_density(df)\n",
    "        self.data_cleaning(df)\n",
    "\n",
    "        df['tip_percent'] = df.Tip_amount/df.Total_amount * 100\n",
    "        df_shuffled = df[(df.trip_duration >= 30) & (df.Total_amount >= 0) &\n",
    "                         (df.Trip_distance > 0) & (df.Total_amount > 0)\n",
    "                         ][self._x_columnname + self._y_columnname].dropna().sample(frac=1)\n",
    "        df_shuffled['VendorID'] = (df_shuffled.VendorID == 1).astype(int)\n",
    "        df_shuffled['Payment_type'] = (df.Payment_type == 1).astype(int)\n",
    "        df_shuffled['lpep_pickup_datetime'] = pd.to_datetime(df.lpep_pickup_datetime\n",
    "                                                             ).apply(lambda x: x.isoweekday() < 6\n",
    "                                                                     ).astype(int)\n",
    "        train = df_shuffled[:int(len(df_shuffled) * self._train_validate_ratio)]\n",
    "        test = df_shuffled[int(len(df_shuffled) * self._train_validate_ratio):]\n",
    "        train_x, train_y = train[self._x_columnname], train[self._y_columnname]\n",
    "        test_x, test_y = test[self._x_columnname], test[self._y_columnname]\n",
    "\n",
    "        xgbrege = XGBRegressor(subsample=0.65, learning_rate=0.04, max_depth=3, base_score=0.5)\n",
    "        xgbrege.fit(train_x, list(train_y.tip_percent))\n",
    "        joblib.dump(xgbrege, self._model_filename)\n",
    "        countcsv = (self.min_lat, self.max_lat, self.min_lon, self.max_lon,\n",
    "                    self.resolution_lat, self.resolution_lon, self.count)\n",
    "        joblib.dump(countcsv, self._pickup_dropoff_density_filename)\n",
    "        self.xgbmodel = xgbrege\n",
    "\n",
    "        print 'Validation score:', xgbrege.score(test_x, test_y)\n",
    "        print 'Validation mean square error:', sqrt(mean_squared_error(test_y, xgbrege.predict(test_x)))\n"
   ]
  },
  {
   "cell_type": "markdown",
   "metadata": {},
   "source": [
    "###### Below I used the green taxi data from Oct. 2015 to test my model, as shown the correlation score reaches 0.74"
   ]
  },
  {
   "cell_type": "code",
   "execution_count": 35,
   "metadata": {
    "collapsed": false
   },
   "outputs": [
    {
     "name": "stdout",
     "output_type": "stream",
     "text": [
      "Test score: 0.741866370781\n",
      "Test mean square error: 4.43804468678\n"
     ]
    }
   ],
   "source": [
    "test_filename = \"green_tripdata_2015-10.csv\"\n",
    "test_res = TaxiTipPercent(test_filename).df"
   ]
  },
  {
   "cell_type": "markdown",
   "metadata": {},
   "source": [
    "# Question 5"
   ]
  },
  {
   "cell_type": "markdown",
   "metadata": {},
   "source": [
    "### Option B: Visualization\n",
    "#### Can you build a visualization (interactive or static) of the trip data that helps us understand intra- vs. inter-borough traffic? What story does it tell about how New Yorkers use their green taxis?"
   ]
  },
  {
   "cell_type": "code",
   "execution_count": 2,
   "metadata": {
    "collapsed": false
   },
   "outputs": [],
   "source": [
    "def download_and_preprocessing(download=False):\n",
    "    '''\n",
    "    Part 1: Download the data\n",
    "    Part 2: Get the county information and Borough information of the trip\n",
    "            Here I modified Ajay Thampi's reverse-geocoder library to extact Boroughs from\n",
    "            GPS coordinates. Since original library follows a LGPL license, I will open source\n",
    "            the file when the data chanlledge is fully finished.\n",
    "            https://github.com/thampiman/reverse-geocoder\n",
    "    '''\n",
    "    \n",
    "    if download:\n",
    "        filename = download_logfiles(['green', '.csv'])\n",
    "     \n",
    "    import reverse_geocoder as rg\n",
    "    import pandas as pd\n",
    "    import numpy as np\n",
    "    import os\n",
    "\n",
    "    usecols = ['lpep_pickup_datetime', 'Lpep_dropoff_datetime',\n",
    "               'Pickup_latitude', 'Pickup_longitude',\n",
    "               'Dropoff_latitude', 'Dropoff_longitude',\n",
    "               'Passenger_count']\n",
    "    dfs = pd.concat(pd.read_csv(filename, sep=',', usecols=usecols, index_col=False) for filename in\n",
    "                    sorted(fn for fn in os.listdir(\"./\") if fn.find(\"tripdata\") >= 0 and fn.find(\".csv\") >= 0))\n",
    "\n",
    "    dfs = dfs[dfs.Pickup_latitude.notnull() & dfs.Pickup_longitude.notnull() &\n",
    "              dfs.Dropoff_latitude.notnull() & dfs.Pickup_longitude.notnull()]\n",
    "    dfs = dfs[dfs.lpep_pickup_datetime.notnull() & dfs.Lpep_dropoff_datetime.notnull()]\n",
    "    dfs = dfs[dfs.Passenger_count.notnull()]\n",
    "\n",
    "    dfs = dfs[(dfs.Pickup_latitude != 0) & (dfs.Pickup_longitude != 0) &\n",
    "              (dfs.Dropoff_latitude != 0) & (dfs.Pickup_longitude != 0)]\n",
    "\n",
    "    dfs['pickup_location'] = zip(dfs.Pickup_latitude, dfs.Pickup_longitude)\n",
    "    dfs['dropoff_location'] = zip(dfs.Dropoff_latitude, dfs.Dropoff_longitude)\n",
    "\n",
    "    county2borough = {'New York County':'Manhattan',\n",
    "                      'Bronx':'The Bronx',\n",
    "                      'Queens County':'Queens',\n",
    "                      'Kings County':'Brooklyn',\n",
    "                      'Richmond County':'Staten Island'}\n",
    "    \n",
    "    # Here we used a modified library of \"Reverse geocoding to find the county name of the\n",
    "    # pickup and dropoff locations, since each county corresponds to a Borough, we map it\n",
    "    # to the correct Borough\n",
    "    \n",
    "    # The modified reverse geocoder will download all the geoinformation of Gazetteers in \n",
    "    # United States, i.e. a hospital, a shop, a park, a church, etc. Then for a given GPS\n",
    "    # coordinate, we will find its closest gazetteer using a K-D tree. The the county name\n",
    "    # of the gazetteer will be returned.\n",
    "    get_borough = lambda location: map(lambda x: county2borough.get(x['admin2'], 'Other'), rg.search(list(location)))\n",
    "\n",
    "    dfs['pickup_borough'] = get_borough(dfs.pickup_location)\n",
    "    dfs['dropoff_borough'] = get_borough(dfs.dropoff_location)\n",
    "\n",
    "    dfs = dfs[(dfs.pickup_borough != 'Other') | (dfs.dropoff_borough != 'Other')]\n",
    "    dfs.reset_index(inplace=True, drop=True)\n",
    "    del dfs['Pickup_latitude']; del dfs['Pickup_longitude']; del dfs['Dropoff_latitude']; del dfs['Dropoff_longitude']; \n",
    "    dfs.to_csv('trip_borough.csv', index=False)\n",
    "    # print len(dfs)\n",
    "    return dfs\n",
    "\n",
    "\n",
    "def preprocessing2():\n",
    "    # determine the inter/intra-Borough trips, determine the time, prepare for visualization\n",
    "    import pandas as pd\n",
    "    import numpy as np\n",
    "\n",
    "    dfs = pd.read_csv('trip_borough.csv', index_col=False)\n",
    "\n",
    "    sec_since_midnight = lambda t: t.hour*3600 + t.minute*60 + t.second\n",
    "    dfs['pickup_second'] = pd.to_datetime(dfs.lpep_pickup_datetime).apply(sec_since_midnight)\n",
    "    dfs['dropoff_second'] = pd.to_datetime(dfs.Lpep_dropoff_datetime).apply(sec_since_midnight)\n",
    "\n",
    "    del dfs['lpep_pickup_datetime']; del dfs['Lpep_dropoff_datetime'];\n",
    "    borough_index = {\"Manhattan\": 1, \"Brooklyn\": 2, \"Queens\": 3, \"The Bronx\": 4, \"Staten Island\": 5, \"Other\": 0}\n",
    "    dfs['inter_intra'] = (dfs.pickup_borough != dfs.dropoff_borough).astype(int)\n",
    "    dfs['pickup_borough'].replace(borough_index, inplace=True)\n",
    "    dfs['dropoff_borough'].replace(borough_index, inplace=True)\n",
    "\n",
    "    dfs.to_csv('trip_borough_update.csv', index=False)\n",
    "\n",
    "    \n",
    "def drawframe(i, interval_gap=120):\n",
    "    '''\n",
    "    draw the frame of a given \"timestamp\"\n",
    "    \n",
    "    Parameters:\n",
    "    i --> the i_th frame\n",
    "    '''\n",
    "    import matplotlib.pyplot as plt\n",
    "    import pandas as pd\n",
    "    fig_size = (8, 8)\n",
    "    df = pd.read_csv(\"plotdata_%d.csv\" % i, sep=',', index_col=False,\n",
    "                     header=None, names=['lat', 'lon', 'pickup_dropoff',\n",
    "                                         'inter_intra', 'other_end'])\n",
    "    colors = ['b', 'y', 'c', 'r']\n",
    "    fig = plt.figure()\n",
    "    fig.set_size_inches(fig_size[0], fig_size[1])\n",
    "    ax = plt.Axes(fig, [0., 0., 1., 1.])\n",
    "    ax.set_axis_off()\n",
    "    fig.add_axes(ax)\n",
    "    pickup_inter_df = df[(df.pickup_dropoff == 0) & (df.inter_intra == 0)]\n",
    "    pickup_intra_df = df[(df.pickup_dropoff == 0) & (df.inter_intra == 1)]\n",
    "    dropoff_inter_df = df[(df.pickup_dropoff == 1) & (df.inter_intra == 0)]\n",
    "    dropoff_intra_df = df[(df.pickup_dropoff == 1) & (df.inter_intra == 1)]\n",
    "    fig1, = plt.plot(dropoff_inter_df.lon, dropoff_inter_df.lat,\n",
    "                     colors[0] + '.', markersize=0.75)\n",
    "    fig2, = plt.plot(dropoff_intra_df.lon, dropoff_intra_df.lat,\n",
    "                     colors[1] + '.', markersize=0.75)\n",
    "    fig3, = plt.plot(pickup_inter_df.lon, pickup_inter_df.lat,\n",
    "                     colors[2] + '.', markersize=0.75)\n",
    "    fig4, = plt.plot(pickup_intra_df.lon, pickup_intra_df.lat,\n",
    "                     colors[3] + '.', markersize=0.75)\n",
    "    legend_labels = (r'Inter-Borough Pickups', r'Intra-Borough Pickups',\n",
    "                     r'Inter-Borough Dropoffs', r'Intra-Borough Dropoffs')\n",
    "    legend_here = plt.legend((fig3, fig4, fig1, fig2), legend_labels,\n",
    "                             loc=2, fontsize=14, columnspacing=-5, numpoints=1,\n",
    "                             borderpad=0.2, labelspacing=0.1)\n",
    "    legend_here.get_frame().set_facecolor('None')\n",
    "    legend_here.get_frame().set_edgecolor('None')\n",
    "    legend_texts = legend_here.get_texts()\n",
    "    legend_texts[0].set_color(colors[2])\n",
    "    legend_texts[1].set_color(colors[3])\n",
    "    legend_texts[2].set_color(colors[0])\n",
    "    legend_texts[3].set_color(colors[1])\n",
    "\n",
    "    legend_here.legendHandles[0]._legmarker.set_markersize(8)\n",
    "    legend_here.legendHandles[1]._legmarker.set_markersize(8)\n",
    "    legend_here.legendHandles[2]._legmarker.set_markersize(8)\n",
    "    legend_here.legendHandles[3]._legmarker.set_markersize(8)\n",
    "    seconds_today = i * interval_gap\n",
    "    if seconds_today < 86400 / 2:\n",
    "        time_str = \"%02d:%02d AM\" % (\n",
    "            seconds_today / 3600, seconds_today % 3600 / 60)\n",
    "    else:\n",
    "        time_str = \"%02d:%02d PM\" % (\n",
    "            seconds_today / 3600, seconds_today % 3600 / 60)\n",
    "    plt.text(-73.80, 40.608, time_str, color='white', fontsize=18)\n",
    "    plt.axis([-74.05, -73.75, 40.6, 40.9])\n",
    "    plt.savefig('%05d.png' % i, dpi=125, facecolor='black')\n",
    "    plt.draw()\n",
    "    plt.clf()\n",
    "    return 1\n",
    "\n",
    "\n",
    "def draw_movie(movie_filename=\"movie.mp4\"):\n",
    "    '''\n",
    "    First, draw a scatter plot of inter/intra-Borough pickups and dropoffs for each \"timestamp\"\n",
    "    Then, we will call FFmpeg to merge images to a video.\n",
    "    '''\n",
    "    import pandas as pd\n",
    "    import os\n",
    "    os.system(\"rm plotdata_*.csv\")\n",
    "\n",
    "    dfs = pd.read_csv('trip_borough_update.csv', index_col=False)\n",
    "\n",
    "    interval_gap = 120  # each frame in the video corresponds to 60 sec logs\n",
    "    fp_file = [open(\"plotdata_%d.csv\" % i, 'w') for i in range(86400/interval_gap)]\n",
    "\n",
    "    for record in dfs.iterrows():\n",
    "        record = record[1]\n",
    "        pickup_t_index, dropoff_t_index = record.pickup_second/interval_gap, record.dropoff_second/interval_gap\n",
    "        fp_file[pickup_t_index].write(\"%s,%s,%d,%d,%d\\n\" % \n",
    "                                      (record.pickup_location[1:-1].split(\", \")[0],\n",
    "                                       record.pickup_location[1:-1].split(\", \")[1],\n",
    "                                       0, record.inter_intra, record.dropoff_borough))\n",
    "        fp_file[dropoff_t_index].write(\"%s,%s,%d,%d,%d\\n\" %\n",
    "                                       (record.dropoff_location[1:-1].split(\", \")[0],\n",
    "                                        record.dropoff_location[1:-1].split(\", \")[1],\n",
    "                                        1, record.inter_intra, record.pickup_borough))\n",
    "    for fp in fp_file:\n",
    "        fp.close()\n",
    "\n",
    "    for i in range(86400/interval_gap):  # draw frames\n",
    "        drawframe(i, interval_gap=interval_gap)\n",
    "    \n",
    "    # combine frames to a video using FFmpeg\n",
    "    os.system(\"ffmpeg -i %05d.png -c:a copy -c:v libx264 -crf 18 -preset veryslow \" + movie_filename)\n",
    "\n",
    "def visualization_video(movie_filename=\"movie.mp4\"):\n",
    "    '''\n",
    "    Here we clean the memory multiple times due to out-of-memory issues,\n",
    "    since we are using all of the green taxi logs. (2013-2016)\n",
    "    If given more time, I will write a better documentation\n",
    "    \n",
    "    Parameters:\n",
    "    movie_filename --> the filename fo the to-be-generated video\n",
    "    '''\n",
    "    import gc\n",
    "\n",
    "    download_and_preprocessing(download=True)\n",
    "    gc.collect()\n",
    "\n",
    "    preprocessing2()\n",
    "    gc.collect()\n",
    "\n",
    "    draw_movie(movie_filename=\"movie.mp4\")\n",
    "    gc.collect()"
   ]
  },
  {
   "cell_type": "code",
   "execution_count": 3,
   "metadata": {
    "collapsed": true
   },
   "outputs": [],
   "source": [
    "visualization_video(movie_filename=\"movie.mp4\")"
   ]
  },
  {
   "cell_type": "markdown",
   "metadata": {},
   "source": [
    "Above function will download all the NYC green taxi GPS logs (2013-2016), and visualize the pickup-dropoff in a video.\n",
    "\n",
    "Here we used a modified library of **Reverse geocoder** to find the county name of the pickup and dropoff locations (GPS corrdinates). Since each county corresponds to a Borough, we then map them to the correct Boroughs.   \n",
    "The modified reverse geocoder will download all the geo-information of **Gazetteers** in United States, i.e. hospitals, shops, restaurants, schools, etc. Then for a given GPS coordinate, we will find its closest gazetteer using KD trees. The the county name of the gazetteer will be returned.\n",
    "The code will generate a visualization **video** for the inter/intra-Borough pickups/dropoffs. A compressed version of the video **movie_compressed.mp4** is sent along with the email.\n",
    "Runing the code may take very long time, since it will download all the green taxi logs, US gazetteer data, and build KD Trees, can generate frames."
   ]
  },
  {
   "cell_type": "code",
   "execution_count": 55,
   "metadata": {
    "collapsed": true
   },
   "outputs": [],
   "source": [
    "import pandas as pd\n",
    "import numpy as np\n",
    "import seaborn as sns\n",
    "import joblib\n",
    "\n",
    "def plot_borough_trip():\n",
    "    x_list = ['BK', 'BX', 'MN', 'QN', 'SI',\n",
    "              'BK>BX', 'BK>MN', 'BK>O', 'BK>QN', 'BK>SI',\n",
    "              'BX>BK', 'BX>MN', 'BX>O', 'BX>QN', 'BX>SI',\n",
    "              'MN>BK', 'MN>BX', 'MN>O', 'MN>QN', 'MN>SI',\n",
    "              'QN>BK', 'QN>BX', 'QN>MN', 'QN>O', 'QN>SI',\n",
    "              'SI>BK', 'SI>BX', 'SI>MN', 'SI>O', 'SI>QN',\n",
    "              'O>BK', 'O>BX', 'O>MN', 'O>QN', 'O>SI']\n",
    "    try:\n",
    "        plot_data_dict = joblib.load('plot_data_dict.pkl')\n",
    "    except:\n",
    "        dfs = pd.read_csv('trip_borough.csv', index_col=False)\n",
    "        dfs['inter_intra'] = (dfs.pickup_borough != dfs.dropoff_borough).astype(int)\n",
    "        abbv = {'Brooklyn':'BK', 'The Bronx': 'BX', 'Queens': 'QN',\n",
    "                'Staten Island': 'SI', 'Manhattan': 'MN', 'Other': 'O'}\n",
    "        dfs['pickup_borough'].replace(abbv, inplace=True)\n",
    "        dfs['dropoff_borough'].replace(abbv, inplace=True)\n",
    "        dfs['inter-intra-ori-tar'] = dfs.pickup_borough + ('>' + dfs.dropoff_borough) * dfs.inter_intra\n",
    "        plot_data = dfs.groupby('inter-intra-ori-tar').size()\n",
    "        plot_data_dict=dict(plot_data)\n",
    "        joblib.dump(plot_data_dict, 'plot_data_dict.pkl')\n",
    "\n",
    "    plotdat = map(lambda x: plot_data_dict[x], x_list)   \n",
    "    sns.set(style=\"whitegrid\")\n",
    "    fig = figure()\n",
    "    fig.set_size_inches(16, 10)\n",
    "    barh(np.arange(5)-0.5, plotdat[:5], color='r')\n",
    "    barh(np.arange(5)+4.5, plotdat[5:10], color='silver')\n",
    "    barh(np.arange(5)+9.5, plotdat[10:15], color='lightgreen')\n",
    "    barh(np.arange(5)+14.5, plotdat[15:20], color='lightyellow')\n",
    "    barh(np.arange(5)+19.5, plotdat[20:25], color='cyan')\n",
    "    barh(np.arange(5)+24.5, plotdat[25:30], color='pink')\n",
    "    barh(np.arange(5)+29.5, plotdat[30:35], color='lightblue')\n",
    "    xscale('log')\n",
    "    yticks(range(len(plotdat)),x_list,size=14)\n",
    "    xticks(size=16)\n",
    "    axis([1, 1e8, len(x_list), -1])\n",
    "    ylabel('Borough', size=18)\n",
    "    xlabel('Occupacy', size=18)\n",
    "    savefig(\"plot_borough_trip.png\", dpi=100)\n",
    "    show()"
   ]
  },
  {
   "cell_type": "code",
   "execution_count": 56,
   "metadata": {
    "collapsed": false,
    "scrolled": true
   },
   "outputs": [
    {
     "name": "stdout",
     "output_type": "stream",
     "text": [
      "Populating the interactive namespace from numpy and matplotlib\n"
     ]
    }
   ],
   "source": [
    "%pylab inline"
   ]
  },
  {
   "cell_type": "markdown",
   "metadata": {},
   "source": [
    "Below is the bar chart of the inter/intra-borough trips. The intra-borough trips are colored as red. Here I again used all the green taxi data from 2013 to 2016."
   ]
  },
  {
   "cell_type": "code",
   "execution_count": 57,
   "metadata": {
    "collapsed": false
   },
   "outputs": [
    {
     "data": {
      "image/png": "[encoded data removed]",
      "text/plain": [
       "<matplotlib.figure.Figure at 0x7f851b61b390>"
      ]
     },
     "metadata": {},
     "output_type": "display_data"
    }
   ],
   "source": [
    "plot_borough_trip()"
   ]
  },
  {
   "cell_type": "markdown",
   "metadata": {},
   "source": [
    "From the figure above, clearly most taxi trips are intar-Borough, as marked red in above figure. Also I found that Manhattan has the most inter-Borough dropoffs, and Staten Island has the least. On the other hand, from the visualization video, I found a clear time-dependent variation."
   ]
  }
 ],
 "metadata": {
  "kernelspec": {
   "display_name": "Python 2",
   "language": "python",
   "name": "python2"
  },
  "language_info": {
   "codemirror_mode": {
    "name": "ipython",
    "version": 2
   },
   "file_extension": ".py",
   "mimetype": "text/x-python",
   "name": "python",
   "nbconvert_exporter": "python",
   "pygments_lexer": "ipython2",
   "version": "2.7.12"
  }
 },
 "nbformat": 4,
 "nbformat_minor": 0
}
